{
 "cells": [
  {
   "cell_type": "code",
   "execution_count": 1,
   "metadata": {},
   "outputs": [],
   "source": [
    "%load_ext autoreload\n",
    "%autoreload 2"
   ]
  },
  {
   "cell_type": "markdown",
   "metadata": {},
   "source": [
    "Import dependencies"
   ]
  },
  {
   "cell_type": "code",
   "execution_count": 2,
   "metadata": {},
   "outputs": [],
   "source": [
    "from haystack import Document, Pipeline\n",
    "from haystack.document_stores.in_memory import InMemoryDocumentStore\n",
    "from haystack.components.embedders import SentenceTransformersTextEmbedder\n",
    "from haystack.components.retrievers.in_memory import InMemoryEmbeddingRetriever"
   ]
  },
  {
   "cell_type": "markdown",
   "metadata": {},
   "source": [
    "Initialize components"
   ]
  },
  {
   "cell_type": "code",
   "execution_count": 3,
   "metadata": {},
   "outputs": [],
   "source": [
    "document_store = InMemoryDocumentStore(embedding_similarity_function=\"cosine\")\n",
    "text_embedder = SentenceTransformersTextEmbedder()  # type: ignore\n",
    "retriever = InMemoryEmbeddingRetriever(document_store=document_store)  # type: ignore"
   ]
  },
  {
   "cell_type": "markdown",
   "metadata": {},
   "source": [
    "Create the pipeline"
   ]
  },
  {
   "cell_type": "code",
   "execution_count": 4,
   "metadata": {},
   "outputs": [],
   "source": [
    "query_pipeline = Pipeline()"
   ]
  },
  {
   "cell_type": "markdown",
   "metadata": {},
   "source": [
    "Add components"
   ]
  },
  {
   "cell_type": "code",
   "execution_count": 5,
   "metadata": {},
   "outputs": [],
   "source": [
    "query_pipeline.add_component(\"text_embedder\", text_embedder)\n",
    "query_pipeline.add_component(\"retriever\", retriever)"
   ]
  },
  {
   "cell_type": "markdown",
   "metadata": {},
   "source": [
    "Connect components"
   ]
  },
  {
   "cell_type": "code",
   "execution_count": 6,
   "metadata": {},
   "outputs": [
    {
     "data": {
      "text/plain": [
       "<haystack.core.pipeline.pipeline.Pipeline object at 0x79f4ca92ea90>\n",
       "🚅 Components\n",
       "  - text_embedder: SentenceTransformersTextEmbedder\n",
       "  - retriever: InMemoryEmbeddingRetriever\n",
       "🛤️ Connections\n",
       "  - text_embedder.embedding -> retriever.query_embedding (List[float])"
      ]
     },
     "execution_count": 6,
     "metadata": {},
     "output_type": "execute_result"
    }
   ],
   "source": [
    "query_pipeline.connect(\"text_embedder.embedding\", \"retriever.query_embedding\")\n",
    "\n",
    "# Because the InMemoryEmbeddingRetriever only has one input, this is also correct:\n",
    "# pipeline.connect(\"text_embedder.embedding\", \"retriever\")"
   ]
  },
  {
   "cell_type": "markdown",
   "metadata": {},
   "source": [
    "Run the pipeline"
   ]
  },
  {
   "cell_type": "code",
   "execution_count": 7,
   "metadata": {},
   "outputs": [
    {
     "data": {
      "application/vnd.jupyter.widget-view+json": {
       "model_id": "2df6670b61ec486abd46cacc608bcefd",
       "version_major": 2,
       "version_minor": 0
      },
      "text/plain": [
       "Batches:   0%|          | 0/1 [00:00<?, ?it/s]"
      ]
     },
     "metadata": {},
     "output_type": "display_data"
    },
    {
     "name": "stderr",
     "output_type": "stream",
     "text": [
      "No Documents found with embeddings. Returning empty list. To generate embeddings, use a DocumentEmbedder.\n"
     ]
    }
   ],
   "source": [
    "results = query_pipeline.run({\n",
    "    \"text_embedder\": {\n",
    "        \"text\": \"How is the weather today?\"\n",
    "    }\n",
    "})"
   ]
  },
  {
   "cell_type": "code",
   "execution_count": 8,
   "metadata": {},
   "outputs": [
    {
     "data": {
      "text/plain": [
       "{'retriever': {'documents': []}}"
      ]
     },
     "execution_count": 8,
     "metadata": {},
     "output_type": "execute_result"
    }
   ],
   "source": [
    "results"
   ]
  },
  {
   "cell_type": "markdown",
   "metadata": {},
   "source": [
    "Pipeline input"
   ]
  },
  {
   "cell_type": "code",
   "execution_count": 9,
   "metadata": {},
   "outputs": [],
   "source": [
    "from haystack import Pipeline\n",
    "from haystack.document_stores.in_memory import InMemoryDocumentStore\n",
    "from haystack.components.fetchers import LinkContentFetcher\n",
    "from haystack.components.converters import HTMLToDocument\n",
    "from haystack.components.writers import DocumentWriter"
   ]
  },
  {
   "cell_type": "code",
   "execution_count": 10,
   "metadata": {},
   "outputs": [],
   "source": [
    "document_store = InMemoryDocumentStore()\n",
    "fetcher = LinkContentFetcher()  # type: ignore\n",
    "converter = HTMLToDocument()  # type: ignore\n",
    "writer = DocumentWriter(document_store = document_store)  # type: ignore"
   ]
  },
  {
   "cell_type": "code",
   "execution_count": 11,
   "metadata": {},
   "outputs": [],
   "source": [
    "pipeline = Pipeline()\n",
    "pipeline.add_component(instance=fetcher, name=\"fetcher\")\n",
    "pipeline.add_component(instance=converter, name=\"converter\")\n",
    "pipeline.add_component(instance=writer, name=\"writer\")"
   ]
  },
  {
   "cell_type": "code",
   "execution_count": 12,
   "metadata": {},
   "outputs": [
    {
     "data": {
      "text/plain": [
       "<haystack.core.pipeline.pipeline.Pipeline object at 0x79f4c4ffdad0>\n",
       "🚅 Components\n",
       "  - fetcher: LinkContentFetcher\n",
       "  - converter: HTMLToDocument\n",
       "  - writer: DocumentWriter\n",
       "🛤️ Connections\n",
       "  - fetcher.streams -> converter.sources (List[ByteStream])\n",
       "  - converter.documents -> writer.documents (List[Document])"
      ]
     },
     "execution_count": 12,
     "metadata": {},
     "output_type": "execute_result"
    }
   ],
   "source": [
    "pipeline.connect(\"fetcher.streams\", \"converter.sources\")\n",
    "pipeline.connect(\"converter.documents\", \"writer.documents\")"
   ]
  },
  {
   "cell_type": "code",
   "execution_count": 13,
   "metadata": {},
   "outputs": [
    {
     "data": {
      "text/plain": [
       "{'fetcher': {'urls': {'type': typing.List[str], 'is_mandatory': True}},\n",
       " 'converter': {'meta': {'type': typing.Union[typing.Dict[str, typing.Any], typing.List[typing.Dict[str, typing.Any]], NoneType],\n",
       "   'is_mandatory': False,\n",
       "   'default_value': None},\n",
       "  'extraction_kwargs': {'type': typing.Optional[typing.Dict[str, typing.Any]],\n",
       "   'is_mandatory': False,\n",
       "   'default_value': None}},\n",
       " 'writer': {'policy': {'type': typing.Optional[haystack.document_stores.types.policy.DuplicatePolicy],\n",
       "   'is_mandatory': False,\n",
       "   'default_value': None}}}"
      ]
     },
     "execution_count": 13,
     "metadata": {},
     "output_type": "execute_result"
    }
   ],
   "source": [
    "# Requesting a list of required inputs\n",
    "pipeline.inputs()"
   ]
  },
  {
   "cell_type": "code",
   "execution_count": 14,
   "metadata": {},
   "outputs": [
    {
     "data": {
      "text/plain": [
       "{'writer': {'documents_written': 1}}"
      ]
     },
     "execution_count": 14,
     "metadata": {},
     "output_type": "execute_result"
    }
   ],
   "source": [
    "pipeline.run(data={\n",
    "    \"fetcher\": {\n",
    "        \"urls\": [\"https://docs.vngcloud.vn/vng-cloud-document\"]\n",
    "        }\n",
    "    })"
   ]
  },
  {
   "cell_type": "code",
   "execution_count": 15,
   "metadata": {},
   "outputs": [],
   "source": [
    "document_store.save_to_disk(\"vngcloud_docs\")"
   ]
  },
  {
   "cell_type": "markdown",
   "metadata": {},
   "source": [
    "Visuzlizing pipelines"
   ]
  },
  {
   "cell_type": "code",
   "execution_count": 16,
   "metadata": {},
   "outputs": [
    {
     "data": {
      "image/png": "[encoded data removed]",
      "text/plain": [
       "<IPython.core.display.Image object>"
      ]
     },
     "metadata": {},
     "output_type": "display_data"
    }
   ],
   "source": [
    "pipeline.show()"
   ]
  },
  {
   "cell_type": "markdown",
   "metadata": {},
   "source": [
    "Save the graph to a file"
   ]
  },
  {
   "cell_type": "code",
   "execution_count": 17,
   "metadata": {},
   "outputs": [],
   "source": [
    "pipeline.draw(path=\"my_pipeline.png\")"
   ]
  },
  {
   "cell_type": "markdown",
   "metadata": {},
   "source": [
    "Convert pipeline to YAML file"
   ]
  },
  {
   "cell_type": "code",
   "execution_count": 18,
   "metadata": {},
   "outputs": [
    {
     "name": "stdout",
     "output_type": "stream",
     "text": [
      "components:\n",
      "  converter:\n",
      "    init_parameters:\n",
      "      extraction_kwargs: {}\n",
      "      store_full_path: true\n",
      "    type: haystack.components.converters.html.HTMLToDocument\n",
      "  fetcher:\n",
      "    init_parameters:\n",
      "      raise_on_failure: true\n",
      "      retry_attempts: 2\n",
      "      timeout: 3\n",
      "      user_agents:\n",
      "      - haystack/LinkContentFetcher/2.8.0\n",
      "    type: haystack.components.fetchers.link_content.LinkContentFetcher\n",
      "  writer:\n",
      "    init_parameters:\n",
      "      document_store:\n",
      "        init_parameters:\n",
      "          bm25_algorithm: BM25L\n",
      "          bm25_parameters: {}\n",
      "          bm25_tokenization_regex: (?u)\\b\\w\\w+\\b\n",
      "          embedding_similarity_function: dot_product\n",
      "          index: 1972e936-bdac-49de-93b2-ea3320f7a953\n",
      "        type: haystack.document_stores.in_memory.document_store.InMemoryDocumentStore\n",
      "      policy: NONE\n",
      "    type: haystack.components.writers.document_writer.DocumentWriter\n",
      "connections:\n",
      "- receiver: converter.sources\n",
      "  sender: fetcher.streams\n",
      "- receiver: writer.documents\n",
      "  sender: converter.documents\n",
      "max_runs_per_component: 100\n",
      "metadata: {}\n",
      "\n"
     ]
    }
   ],
   "source": [
    "print(pipeline.dumps())"
   ]
  },
  {
   "cell_type": "code",
   "execution_count": 19,
   "metadata": {},
   "outputs": [],
   "source": [
    "with open(\"my_pipeline.yaml\", \"w\") as f:\n",
    "    pipeline.dump(f)"
   ]
  },
  {
   "cell_type": "markdown",
   "metadata": {},
   "source": [
    "Convert pipeline back to Python code"
   ]
  },
  {
   "cell_type": "code",
   "execution_count": 20,
   "metadata": {},
   "outputs": [],
   "source": [
    "from haystack.core.serialization import DeserializationCallbacks\n",
    "from typing import Type, Dict, Any"
   ]
  },
  {
   "cell_type": "code",
   "execution_count": 21,
   "metadata": {},
   "outputs": [],
   "source": [
    "# This is the YAML you want to convert to Python:\n",
    "pipeline_yaml = \"\"\"\n",
    "components:\n",
    "  cleaner:\n",
    "    init_parameters:\n",
    "      remove_empty_lines: true\n",
    "      remove_extra_whitespaces: true\n",
    "      remove_regex: null\n",
    "      remove_repeated_substrings: false\n",
    "      remove_substrings: null\n",
    "    type: haystack.components.preprocessors.document_cleaner.DocumentCleaner\n",
    "  converter:\n",
    "    init_parameters:\n",
    "      encoding: utf-8\n",
    "    type: haystack.components.converters.txt.TextFileToDocument\n",
    "connections:\n",
    "- receiver: cleaner.documents\n",
    "  sender: converter.documents\n",
    "max_loops_allowed: 100\n",
    "metadata: {}\n",
    "\"\"\""
   ]
  },
  {
   "cell_type": "code",
   "execution_count": 22,
   "metadata": {},
   "outputs": [],
   "source": [
    "def component_pre_init_callback(component_name: str, component_cls: Type, init_params: Dict[str, Any]):\n",
    "    # This function gets called every time a component is deserialized.\n",
    "    if component_name == \"cleaner\":\n",
    "        assert \"DocumentCleaner\" in component_cls.__name__\n",
    "        # Modify the init parameters. The modified parameters are passed to\n",
    "        # the init method of the component during deserialization.\n",
    "        init_params[\"remove_empty_lines\"] = False\n",
    "        print(\"Modified 'remove_empty_lines' to False in 'cleaner' component\")\n",
    "    else:\n",
    "        print(f\"Not modifying component {component_name} of class {component_cls}\")"
   ]
  },
  {
   "cell_type": "code",
   "execution_count": 23,
   "metadata": {},
   "outputs": [
    {
     "name": "stdout",
     "output_type": "stream",
     "text": [
      "Modified 'remove_empty_lines' to False in 'cleaner' component\n",
      "Not modifying component converter of class <class 'haystack.components.converters.txt.TextFileToDocument'>\n"
     ]
    }
   ],
   "source": [
    "pipe = Pipeline.loads(pipeline_yaml, callbacks=DeserializationCallbacks(component_pre_init_callback))"
   ]
  }
 ],
 "metadata": {
  "kernelspec": {
   "display_name": "usr",
   "language": "python",
   "name": "python3"
  },
  "language_info": {
   "codemirror_mode": {
    "name": "ipython",
    "version": 3
   },
   "file_extension": ".py",
   "mimetype": "text/x-python",
   "name": "python",
   "nbconvert_exporter": "python",
   "pygments_lexer": "ipython3",
   "version": "3.10.12"
  }
 },
 "nbformat": 4,
 "nbformat_minor": 2
}
